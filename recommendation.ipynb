{
 "cells": [
  {
   "cell_type": "code",
   "metadata": {
    "collapsed": true,
    "pycharm": {
     "name": "#%%\n"
    }
   },
   "source": [
    "import pandas as pd\n",
    "# data = pd.read_csv(r'D:\\GitHub project\\recommendation_system\\data\\testset.csv')\n"
   ],
   "execution_count": 1,
   "outputs": []
  },
  {
   "cell_type": "code",
   "execution_count": 2,
   "outputs": [],
   "source": [
    "# 全局变量\n",
    "# 设置随机数种子\n",
    "SEED = 1\n",
    "# 设置取的数据的比例\n",
    "raw_fraction = 1.\n",
    "# 文件位置\n",
    "FILE_PATH = 'data/'"
   ],
   "metadata": {
    "collapsed": false,
    "pycharm": {
     "name": "#%%\n"
    }
   }
  },
  {
   "cell_type": "code",
   "execution_count": 9,
   "outputs": [],
   "source": [
    "item = pd.read_csv(FILE_PATH+'item.csv')\n",
    "train = pd.read_csv(FILE_PATH+'train.csv')"
   ],
   "metadata": {
    "collapsed": false,
    "pycharm": {
     "name": "#%%\n"
    }
   }
  },
  {
   "cell_type": "code",
   "execution_count": 10,
   "outputs": [
    {
     "data": {
      "text/plain": "   ID  attribute1     attribute2\n0   0    224058.0  587636.000000\n1   1    590568.0  272492.800332\n2   2     10930.0  454149.000000\n3   3    403310.0   78755.000000\n4   4    359171.0  614925.000000",
      "text/html": "<div>\n<style scoped>\n    .dataframe tbody tr th:only-of-type {\n        vertical-align: middle;\n    }\n\n    .dataframe tbody tr th {\n        vertical-align: top;\n    }\n\n    .dataframe thead th {\n        text-align: right;\n    }\n</style>\n<table border=\"1\" class=\"dataframe\">\n  <thead>\n    <tr style=\"text-align: right;\">\n      <th></th>\n      <th>ID</th>\n      <th>attribute1</th>\n      <th>attribute2</th>\n    </tr>\n  </thead>\n  <tbody>\n    <tr>\n      <th>0</th>\n      <td>0</td>\n      <td>224058.0</td>\n      <td>587636.000000</td>\n    </tr>\n    <tr>\n      <th>1</th>\n      <td>1</td>\n      <td>590568.0</td>\n      <td>272492.800332</td>\n    </tr>\n    <tr>\n      <th>2</th>\n      <td>2</td>\n      <td>10930.0</td>\n      <td>454149.000000</td>\n    </tr>\n    <tr>\n      <th>3</th>\n      <td>3</td>\n      <td>403310.0</td>\n      <td>78755.000000</td>\n    </tr>\n    <tr>\n      <th>4</th>\n      <td>4</td>\n      <td>359171.0</td>\n      <td>614925.000000</td>\n    </tr>\n  </tbody>\n</table>\n</div>"
     },
     "execution_count": 10,
     "metadata": {},
     "output_type": "execute_result"
    }
   ],
   "source": [
    "item.head()"
   ],
   "metadata": {
    "collapsed": false,
    "pycharm": {
     "name": "#%%\n"
    }
   }
  },
  {
   "cell_type": "code",
   "execution_count": 11,
   "outputs": [
    {
     "data": {
      "text/plain": "   user      ID  score\n0     0  507696     90\n1     0  137915     90\n2     0   22757     90\n3     0  120328     90\n4     0  123025     90",
      "text/html": "<div>\n<style scoped>\n    .dataframe tbody tr th:only-of-type {\n        vertical-align: middle;\n    }\n\n    .dataframe tbody tr th {\n        vertical-align: top;\n    }\n\n    .dataframe thead th {\n        text-align: right;\n    }\n</style>\n<table border=\"1\" class=\"dataframe\">\n  <thead>\n    <tr style=\"text-align: right;\">\n      <th></th>\n      <th>user</th>\n      <th>ID</th>\n      <th>score</th>\n    </tr>\n  </thead>\n  <tbody>\n    <tr>\n      <th>0</th>\n      <td>0</td>\n      <td>507696</td>\n      <td>90</td>\n    </tr>\n    <tr>\n      <th>1</th>\n      <td>0</td>\n      <td>137915</td>\n      <td>90</td>\n    </tr>\n    <tr>\n      <th>2</th>\n      <td>0</td>\n      <td>22757</td>\n      <td>90</td>\n    </tr>\n    <tr>\n      <th>3</th>\n      <td>0</td>\n      <td>120328</td>\n      <td>90</td>\n    </tr>\n    <tr>\n      <th>4</th>\n      <td>0</td>\n      <td>123025</td>\n      <td>90</td>\n    </tr>\n  </tbody>\n</table>\n</div>"
     },
     "execution_count": 11,
     "metadata": {},
     "output_type": "execute_result"
    }
   ],
   "source": [
    "train.head()"
   ],
   "metadata": {
    "collapsed": false,
    "pycharm": {
     "name": "#%%\n"
    }
   }
  },
  {
   "cell_type": "code",
   "execution_count": 19,
   "outputs": [],
   "source": [
    "def margin(item, train):\n",
    "    # 左合并\n",
    "    result_df = pd.merge(train, item, on='ID', how='left')\n",
    "    result_df.set_index('user', inplace=True)\n",
    "    result_df.to_csv(FILE_PATH+'result_df3.csv')\n",
    "    return 0"
   ],
   "metadata": {
    "collapsed": false,
    "pycharm": {
     "name": "#%%\n"
    }
   }
  },
  {
   "cell_type": "code",
   "execution_count": 20,
   "outputs": [
    {
     "data": {
      "text/plain": "0"
     },
     "execution_count": 20,
     "metadata": {},
     "output_type": "execute_result"
    }
   ],
   "source": [
    "margin(item,train)"
   ],
   "metadata": {
    "collapsed": false,
    "pycharm": {
     "name": "#%%\n"
    }
   }
  },
  {
   "cell_type": "code",
   "source": [
    "train = pd.read_csv(FILE_PATH+'result_df2.csv')"
   ],
   "metadata": {
    "collapsed": false,
    "pycharm": {
     "name": "#%%\n"
    }
   },
   "execution_count": 3,
   "outputs": []
  },
  {
   "cell_type": "code",
   "execution_count": 4,
   "outputs": [
    {
     "data": {
      "text/plain": "   user      ID  score     attribute1     attribute2\n0     0  507696     90  288394.873765  272492.800332\n1     0  137915     90  288394.873765  272492.800332\n2     0   22757     90  288394.873765  272492.800332\n3     0  120328     90  288394.873765  272492.800332\n4     0  123025     90  288394.873765  272492.800332",
      "text/html": "<div>\n<style scoped>\n    .dataframe tbody tr th:only-of-type {\n        vertical-align: middle;\n    }\n\n    .dataframe tbody tr th {\n        vertical-align: top;\n    }\n\n    .dataframe thead th {\n        text-align: right;\n    }\n</style>\n<table border=\"1\" class=\"dataframe\">\n  <thead>\n    <tr style=\"text-align: right;\">\n      <th></th>\n      <th>user</th>\n      <th>ID</th>\n      <th>score</th>\n      <th>attribute1</th>\n      <th>attribute2</th>\n    </tr>\n  </thead>\n  <tbody>\n    <tr>\n      <th>0</th>\n      <td>0</td>\n      <td>507696</td>\n      <td>90</td>\n      <td>288394.873765</td>\n      <td>272492.800332</td>\n    </tr>\n    <tr>\n      <th>1</th>\n      <td>0</td>\n      <td>137915</td>\n      <td>90</td>\n      <td>288394.873765</td>\n      <td>272492.800332</td>\n    </tr>\n    <tr>\n      <th>2</th>\n      <td>0</td>\n      <td>22757</td>\n      <td>90</td>\n      <td>288394.873765</td>\n      <td>272492.800332</td>\n    </tr>\n    <tr>\n      <th>3</th>\n      <td>0</td>\n      <td>120328</td>\n      <td>90</td>\n      <td>288394.873765</td>\n      <td>272492.800332</td>\n    </tr>\n    <tr>\n      <th>4</th>\n      <td>0</td>\n      <td>123025</td>\n      <td>90</td>\n      <td>288394.873765</td>\n      <td>272492.800332</td>\n    </tr>\n  </tbody>\n</table>\n</div>"
     },
     "execution_count": 4,
     "metadata": {},
     "output_type": "execute_result"
    }
   ],
   "source": [
    "train.head()"
   ],
   "metadata": {
    "collapsed": false,
    "pycharm": {
     "name": "#%%\n"
    }
   }
  },
  {
   "cell_type": "code",
   "execution_count": 5,
   "outputs": [
    {
     "data": {
      "text/plain": "               user            ID         score    attribute1    attribute2\ncount  5.001507e+06  5.001507e+06  5.001507e+06  5.001507e+06  5.001507e+06\nmean   9.605289e+03  3.110830e+05  4.954497e-01  2.994169e+05  2.915044e+05\nstd    5.714891e+03  1.794890e+05  3.822048e-01  1.209107e+05  1.195827e+05\nmin    0.000000e+00  0.000000e+00  0.000000e+00  9.000000e+00  3.100000e+01\n25%    4.579000e+03  1.563420e+05  0.000000e+00  2.883949e+05  2.724928e+05\n50%    9.440000e+03  3.073440e+05  5.000000e-01  2.883949e+05  2.724928e+05\n75%    1.443300e+04  4.677770e+05  9.000000e-01  2.883949e+05  2.724928e+05\nmax    1.983400e+04  6.249600e+05  1.000000e+00  6.249430e+05  6.249510e+05",
      "text/html": "<div>\n<style scoped>\n    .dataframe tbody tr th:only-of-type {\n        vertical-align: middle;\n    }\n\n    .dataframe tbody tr th {\n        vertical-align: top;\n    }\n\n    .dataframe thead th {\n        text-align: right;\n    }\n</style>\n<table border=\"1\" class=\"dataframe\">\n  <thead>\n    <tr style=\"text-align: right;\">\n      <th></th>\n      <th>user</th>\n      <th>ID</th>\n      <th>score</th>\n      <th>attribute1</th>\n      <th>attribute2</th>\n    </tr>\n  </thead>\n  <tbody>\n    <tr>\n      <th>count</th>\n      <td>5.001507e+06</td>\n      <td>5.001507e+06</td>\n      <td>5.001507e+06</td>\n      <td>5.001507e+06</td>\n      <td>5.001507e+06</td>\n    </tr>\n    <tr>\n      <th>mean</th>\n      <td>9.605289e+03</td>\n      <td>3.110830e+05</td>\n      <td>4.954497e-01</td>\n      <td>2.994169e+05</td>\n      <td>2.915044e+05</td>\n    </tr>\n    <tr>\n      <th>std</th>\n      <td>5.714891e+03</td>\n      <td>1.794890e+05</td>\n      <td>3.822048e-01</td>\n      <td>1.209107e+05</td>\n      <td>1.195827e+05</td>\n    </tr>\n    <tr>\n      <th>min</th>\n      <td>0.000000e+00</td>\n      <td>0.000000e+00</td>\n      <td>0.000000e+00</td>\n      <td>9.000000e+00</td>\n      <td>3.100000e+01</td>\n    </tr>\n    <tr>\n      <th>25%</th>\n      <td>4.579000e+03</td>\n      <td>1.563420e+05</td>\n      <td>0.000000e+00</td>\n      <td>2.883949e+05</td>\n      <td>2.724928e+05</td>\n    </tr>\n    <tr>\n      <th>50%</th>\n      <td>9.440000e+03</td>\n      <td>3.073440e+05</td>\n      <td>5.000000e-01</td>\n      <td>2.883949e+05</td>\n      <td>2.724928e+05</td>\n    </tr>\n    <tr>\n      <th>75%</th>\n      <td>1.443300e+04</td>\n      <td>4.677770e+05</td>\n      <td>9.000000e-01</td>\n      <td>2.883949e+05</td>\n      <td>2.724928e+05</td>\n    </tr>\n    <tr>\n      <th>max</th>\n      <td>1.983400e+04</td>\n      <td>6.249600e+05</td>\n      <td>1.000000e+00</td>\n      <td>6.249430e+05</td>\n      <td>6.249510e+05</td>\n    </tr>\n  </tbody>\n</table>\n</div>"
     },
     "execution_count": 5,
     "metadata": {},
     "output_type": "execute_result"
    }
   ],
   "source": [
    "train['score'] = (train['score'] - train['score'].min())/(train['score'].max() - train['score'].min())\n",
    "train.describe()"
   ],
   "metadata": {
    "collapsed": false,
    "pycharm": {
     "name": "#%%\n"
    }
   }
  },
  {
   "cell_type": "code",
   "execution_count": null,
   "outputs": [
    {
     "data": {
      "text/plain": "IntProgress(value=0, description='Processing: ', max=13)",
      "application/vnd.jupyter.widget-view+json": {
       "version_major": 2,
       "version_minor": 0,
       "model_id": "667480bd02584657a8627d31f37034eb"
      }
     },
     "metadata": {},
     "output_type": "display_data"
    },
    {
     "data": {
      "text/plain": "                                                                    \n                                                                    \nInitiated  . . . . . . . . . . . . . . . . . .              16:07:55\nStatus     . . . . . . . . . . . . . . . . . .  Loading Dependencies\nETC        . . . . . . . . . . . . . . . . . .       Calculating ETC",
      "text/html": "<div>\n<style scoped>\n    .dataframe tbody tr th:only-of-type {\n        vertical-align: middle;\n    }\n\n    .dataframe tbody tr th {\n        vertical-align: top;\n    }\n\n    .dataframe thead th {\n        text-align: right;\n    }\n</style>\n<table border=\"1\" class=\"dataframe\">\n  <thead>\n    <tr style=\"text-align: right;\">\n      <th></th>\n      <th></th>\n      <th></th>\n    </tr>\n    <tr>\n      <th></th>\n      <th></th>\n      <th></th>\n    </tr>\n  </thead>\n  <tbody>\n    <tr>\n      <th>Initiated</th>\n      <td>. . . . . . . . . . . . . . . . . .</td>\n      <td>16:07:55</td>\n    </tr>\n    <tr>\n      <th>Status</th>\n      <td>. . . . . . . . . . . . . . . . . .</td>\n      <td>Loading Dependencies</td>\n    </tr>\n    <tr>\n      <th>ETC</th>\n      <td>. . . . . . . . . . . . . . . . . .</td>\n      <td>Calculating ETC</td>\n    </tr>\n  </tbody>\n</table>\n</div>"
     },
     "metadata": {},
     "output_type": "display_data"
    },
    {
     "data": {
      "text/html": "        <script type=\"text/javascript\">\n        window.PlotlyConfig = {MathJaxConfig: 'local'};\n        if (window.MathJax) {MathJax.Hub.Config({SVG: {font: \"STIX-Web\"}});}\n        if (typeof require !== 'undefined') {\n        require.undef(\"plotly\");\n        requirejs.config({\n            paths: {\n                'plotly': ['https://cdn.plot.ly/plotly-latest.min']\n            }\n        });\n        require(['plotly'], function(Plotly) {\n            window._Plotly = Plotly;\n        });\n        }\n        </script>\n        "
     },
     "metadata": {},
     "output_type": "display_data"
    },
    {
     "data": {
      "text/plain": "Text(value=\"Following data types have been inferred automatically, if they are correct press enter to continue…",
      "application/vnd.jupyter.widget-view+json": {
       "version_major": 2,
       "version_minor": 0,
       "model_id": "c2e5f1828ef64e08a9d978c6d71ee71a"
      }
     },
     "metadata": {},
     "output_type": "display_data"
    },
    {
     "data": {
      "text/plain": "           Data Type\nuser         Numeric\nID           Numeric\nscore          Label\nattribute1   Numeric\nattribute2   Numeric",
      "text/html": "<div>\n<style scoped>\n    .dataframe tbody tr th:only-of-type {\n        vertical-align: middle;\n    }\n\n    .dataframe tbody tr th {\n        vertical-align: top;\n    }\n\n    .dataframe thead th {\n        text-align: right;\n    }\n</style>\n<table border=\"1\" class=\"dataframe\">\n  <thead>\n    <tr style=\"text-align: right;\">\n      <th></th>\n      <th>Data Type</th>\n    </tr>\n  </thead>\n  <tbody>\n    <tr>\n      <th>user</th>\n      <td>Numeric</td>\n    </tr>\n    <tr>\n      <th>ID</th>\n      <td>Numeric</td>\n    </tr>\n    <tr>\n      <th>score</th>\n      <td>Label</td>\n    </tr>\n    <tr>\n      <th>attribute1</th>\n      <td>Numeric</td>\n    </tr>\n    <tr>\n      <th>attribute2</th>\n      <td>Numeric</td>\n    </tr>\n  </tbody>\n</table>\n</div>"
     },
     "metadata": {},
     "output_type": "display_data"
    }
   ],
   "source": [
    "from pycaret.regression import *\n",
    "reg1 = setup(data=train, target='score',feature_interaction=True, feature_ratio=True)\n",
    "# creating xgboost model\n",
    "# xgboost = create_model('xgboost')"
   ],
   "metadata": {
    "collapsed": false,
    "pycharm": {
     "name": "#%%\n",
     "is_executing": true
    }
   }
  },
  {
   "cell_type": "code",
   "execution_count": 6,
   "outputs": [
    {
     "data": {
      "text/plain": "                                 Model     MAE        MSE     RMSE      R2  \\\n0  Extreme Gradient Boosting Regressor  33.344  1371.5681  37.0347  0.0629   \n\n    RMSLE    MAPE  \n0  2.1871  0.4172  ",
      "text/html": "<div>\n<style scoped>\n    .dataframe tbody tr th:only-of-type {\n        vertical-align: middle;\n    }\n\n    .dataframe tbody tr th {\n        vertical-align: top;\n    }\n\n    .dataframe thead th {\n        text-align: right;\n    }\n</style>\n<table border=\"1\" class=\"dataframe\">\n  <thead>\n    <tr style=\"text-align: right;\">\n      <th></th>\n      <th>Model</th>\n      <th>MAE</th>\n      <th>MSE</th>\n      <th>RMSE</th>\n      <th>R2</th>\n      <th>RMSLE</th>\n      <th>MAPE</th>\n    </tr>\n  </thead>\n  <tbody>\n    <tr>\n      <th>0</th>\n      <td>Extreme Gradient Boosting Regressor</td>\n      <td>33.344</td>\n      <td>1371.5681</td>\n      <td>37.0347</td>\n      <td>0.0629</td>\n      <td>2.1871</td>\n      <td>0.4172</td>\n    </tr>\n  </tbody>\n</table>\n</div>"
     },
     "metadata": {},
     "output_type": "display_data"
    }
   ],
   "source": [
    "# predict on hold-out\n",
    "pred_holdout = predict_model(xgboost)"
   ],
   "metadata": {
    "collapsed": false,
    "pycharm": {
     "name": "#%%\n"
    }
   }
  },
  {
   "cell_type": "code",
   "execution_count": null,
   "outputs": [],
   "source": [
    "\n"
   ],
   "metadata": {
    "collapsed": false,
    "pycharm": {
     "name": "#%%\n"
    }
   }
  }
 ],
 "metadata": {
  "kernelspec": {
   "name": "dl",
   "language": "python",
   "display_name": "DL"
  },
  "language_info": {
   "codemirror_mode": {
    "name": "ipython",
    "version": 2
   },
   "file_extension": ".py",
   "mimetype": "text/x-python",
   "name": "python",
   "nbconvert_exporter": "python",
   "pygments_lexer": "ipython2",
   "version": "2.7.6"
  }
 },
 "nbformat": 4,
 "nbformat_minor": 0
}